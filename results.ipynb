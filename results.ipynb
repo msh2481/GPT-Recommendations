{
 "cells": [
  {
   "cell_type": "code",
   "execution_count": 2,
   "metadata": {},
   "outputs": [],
   "source": [
    "import numpy as np\n",
    "import matplotlib.pyplot as plt\n",
    "from glob import glob\n",
    "import json"
   ]
  },
  {
   "cell_type": "code",
   "execution_count": 3,
   "metadata": {},
   "outputs": [
    {
     "name": "stdout",
     "output_type": "stream",
     "text": [
      "data/AU_results.jsonl\n",
      "data/RAT_results.jsonl\n",
      "data/US_results.jsonl\n",
      "data/PI_results.jsonl\n",
      "data/IS_results.jsonl\n"
     ]
    }
   ],
   "source": [
    "def extract(result):\n",
    "    day = result[\"unix_time\"] // 60 // 60 // 24 - 19814\n",
    "    if \"total_originality\" in result:\n",
    "        return day, result[\"total_originality\"]\n",
    "    else:\n",
    "        return day, float(result[\"accuracy\"] > 0)\n",
    "\n",
    "from collections import defaultdict\n",
    "\n",
    "results = defaultdict(lambda: defaultdict(list))\n",
    "\n",
    "for filename in glob(\"data/*_results.jsonl\"):\n",
    "    task = filename.split(\"/\")[-1].split(\"_\")[0]\n",
    "    print(filename)\n",
    "    with open(filename) as f:\n",
    "        points = [extract(json.loads(line)) for line in f]\n",
    "    for time, value in points:\n",
    "        results[time][task].append(value)"
   ]
  },
  {
   "cell_type": "code",
   "execution_count": 7,
   "metadata": {},
   "outputs": [],
   "source": [
    "days = sorted(list(results.keys()))\n",
    "averaged = defaultdict(dict)\n",
    "by_task = defaultdict(list)\n",
    "\n",
    "for day in days:\n",
    "    for task in results[day]:\n",
    "        averaged[day][task] = np.mean(results[day][task])\n",
    "        by_task[task].extend(results[day][task])\n",
    "\n",
    "for day in days:\n",
    "    for task in results[day]:\n",
    "        averaged[day][task] = (np.mean(results[day][task]) - np.mean(by_task[task])) / np.std(by_task[task])"
   ]
  },
  {
   "cell_type": "code",
   "execution_count": 8,
   "metadata": {},
   "outputs": [],
   "source": [
    "scores = dict()\n",
    "for day in days:\n",
    "    scores[day] = np.mean([averaged[day][task] for task in averaged[day] if task != \"RAT\"])"
   ]
  },
  {
   "cell_type": "code",
   "execution_count": 9,
   "metadata": {},
   "outputs": [
    {
     "data": {
      "text/plain": [
       "{0: 0.0,\n",
       " 2: -0.8016975932231286,\n",
       " 3: 1.1310462256179872,\n",
       " 6: -0.6592194637284163,\n",
       " 7: -0.29859054564179943,\n",
       " 9: 0.914776065954411}"
      ]
     },
     "execution_count": 9,
     "metadata": {},
     "output_type": "execute_result"
    }
   ],
   "source": [
    "scores"
   ]
  }
 ],
 "metadata": {
  "kernelspec": {
   "display_name": "Python 3",
   "language": "python",
   "name": "python3"
  },
  "language_info": {
   "codemirror_mode": {
    "name": "ipython",
    "version": 3
   },
   "file_extension": ".py",
   "mimetype": "text/x-python",
   "name": "python",
   "nbconvert_exporter": "python",
   "pygments_lexer": "ipython3",
   "version": "3.10.12"
  }
 },
 "nbformat": 4,
 "nbformat_minor": 2
}
